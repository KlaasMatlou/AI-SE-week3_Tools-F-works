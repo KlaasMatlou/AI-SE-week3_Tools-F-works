{
  "nbformat": 4,
  "nbformat_minor": 0,
  "metadata": {
    "colab": {
      "provenance": []
    },
    "kernelspec": {
      "name": "python3",
      "display_name": "Python 3"
    },
    "language_info": {
      "name": "python"
    }
  },
  "cells": [
    {
      "cell_type": "code",
      "source": [
        "# CNN for Handwritten Digits\n",
        "# Step 1: Import required libraries\n",
        "import tensorflow as tf # Our main deep learning framework\n",
        "from tensorflow.keras.datasets import mnist # The dataset of handwritten digits\n",
        "from tensorflow.keras.models import Sequential # To build our model layer by layer\n",
        "from tensorflow.keras.layers import Conv2D, MaxPooling2D, Flatten, Dense, Dropout # The special \"brain\" parts for our CNN\n",
        "import matplotlib.pyplot as plt # To help us visualize images and results\n",
        "import numpy as np # For numerical operations, especially with images\n",
        "\n",
        "\n",
        "# Step 2: Load and Prepare the MNIST Dataset\n",
        "(x_train, y_train), (x_test, y_test) = mnist.load_data()\n",
        "\n",
        "print(f\"\\nOriginal training images shape: {x_train.shape}\") # Should be (60000, 28, 28) - 60,000 images, 28x28 pixels\n",
        "print(f\"Original test images shape: {x_test.shape}\")   # Should be (10000, 28, 28) - 10,000 images, 28x28 pixels\n",
        "\n",
        "# Preprocessing part 1: Reshaping the images\n",
        "x_train = x_train.reshape(x_train.shape[0], 28, 28, 1)\n",
        "x_test = x_test.reshape(x_test.shape[0], 28, 28, 1)\n",
        "\n",
        "print(f\"Reshaped training images shape: {x_train.shape}\")\n",
        "print(f\"Reshaped test images shape: {x_test.shape}\")\n",
        "\n",
        "# Preprocessing part 2: Normalizing pixel values\n",
        "# Image pixel values range from 0 to 255 (0 is black, 255 is white).\n",
        "# So, we'll divide all pixel values by 255.0.\n",
        "x_train = x_train.astype('float32') / 255.0\n",
        "x_test = x_test.astype('float32') / 255.0\n",
        "\n",
        "print(\"\\nImages preprocessed: Reshaped and pixel values normalized (0-255 scaled to 0.0-1.0).\")\n",
        "\n",
        "# Step 3: Build our CNN Model (Our Digital Detective!)\n",
        "# We're creating a 'Sequential' model, which means we stack layers one after another.\n",
        "model = Sequential([\n",
        "    # First Layer: Conv2D (Convolutional Layer)\n",
        "    # input_shape=(28, 28, 1): Tells it the size of our input images.\n",
        "    Conv2D(32, (3, 3), activation='relu', input_shape=(28, 28, 1)),\n",
        "\n",
        "    # Second Layer: MaxPooling2D\n",
        "    # This is like summarizing the clues. After finding many clues, it picks the most important ones.\n",
        "    # (2, 2): Reduces the image size by half, keeping only the strongest features.\n",
        "    MaxPooling2D((2, 2)),\n",
        "\n",
        "    # Third Layer: Conv2D (Another set of clue detectors, building on the first)\n",
        "    # Now it looks for slightly more complex clues using the summarized information.\n",
        "    Conv2D(64, (3, 3), activation='relu'),\n",
        "\n",
        "    # Fourth Layer: MaxPooling2D (Summarize again)\n",
        "    MaxPooling2D((2, 2)),\n",
        "\n",
        "    # Flatten Layer:\n",
        "    # After finding all the visual clues, this layer \"flattens\" them into a single long list.\n",
        "    # It's like taking all the scattered clues and putting them into one long report.\n",
        "    Flatten(),\n",
        "\n",
        "    # Fifth Layer: Dense (Fully Connected Layer)\n",
        "    # 128: number of \"neurons\" or decision-making units.\n",
        "    Dense(128, activation='relu'),\n",
        "\n",
        "    # Dropout Layer (Optional but good for preventing \"over-memorization\")\n",
        "    Dropout(0.5), # 0.5 means 50% of connections are randomly dropped out\n",
        "\n",
        "    # Output Layer: Dense\n",
        "    # This is the final answer!\n",
        "    # 10: Because we have 10 possible digits (0 through 9).\n",
        "    # activation='softmax': This makes sure the output is a probability for each digit (0-9),\n",
        "    # and all probabilities add up to 1. The highest probability is our model's prediction.\n",
        "    Dense(10, activation='softmax')\n",
        "])\n",
        "\n",
        "# Compile the model\n",
        "# optimizer='adam': Adam optimizer adjusts the learning rate during training\n",
        "# loss='sparse_categorical_crossentropy': How the model measures its \"mistakes\" during training.\n",
        "# metrics=['accuracy']: What we want to keep track of during training (how often it's right).\n",
        "model.compile(optimizer='adam',\n",
        "              loss='sparse_categorical_crossentropy',\n",
        "              metrics=['accuracy'])\n",
        "\n",
        "print(\"\\nCNN Model architecture built and compiled:\")\n",
        "model.summary() # This prints a summary of all the layers we just created!\n",
        "\n",
        "# Step 4: Train the Model\n",
        "# x_train: The images.\n",
        "# y_train: The correct labels for those images.\n",
        "# epochs=10: How many times the model will go through the *entire* training dataset. More epochs usually mean more learning.\n",
        "# batch_size=32: How many images the model looks at before updating its internal settings.\n",
        "print(\"\\nStarting model training...\")\n",
        "history = model.fit(x_train, y_train, epochs=10, batch_size=32, validation_split=0.1) # validation_split holds out 10% of training data for checking progress during training\n",
        "print(\"Model training complete!\")\n",
        "\n",
        "\n",
        "# Step 5: Evaluate the Model\n",
        "# Now we test our trained model on the data it has never seen (x_test).\n",
        "print(\"\\nEvaluating model performance on test data...\")\n",
        "loss, accuracy = model.evaluate(x_test, y_test, verbose=0) # verbose=0 means don't print progress bar\n",
        "print(f\"Test Loss: {loss:.4f}\")\n",
        "print(f\"Test Accuracy: {accuracy:.4f}\")\n",
        "\n",
        "# Check if we achieved our goal!\n",
        "if accuracy > 0.95:\n",
        "    print(\"\\nSUCCESS! Test accuracy is greater than 95%.\")\n",
        "else:\n",
        "    print(\"\\nTarget accuracy of 95% not reached. Consider training for more epochs or adjusting the model.\")\n",
        "\n",
        "\n",
        "# Step 6: Visualize Predictions on Sample Images\n",
        "print(\"\\nVisualizing model predictions on 5 sample images:\")\n",
        "\n",
        "# Get 5 random indices from the test set\n",
        "random_indices = np.random.choice(len(x_test), 5, replace=False)\n",
        "\n",
        "plt.figure(figsize=(12, 6)) # Set up a figure to plot images\n",
        "\n",
        "for i, idx in enumerate(random_indices):\n",
        "    # Get the image and its true label\n",
        "    image = x_test[idx]\n",
        "    true_label = y_test[idx]\n",
        "\n",
        "    # Model makes a prediction (predict_on_batch is good for single images)\n",
        "    # We need to add an extra dimension because models expect a batch of images, even if it's just one.\n",
        "    prediction_raw = model.predict(np.expand_dims(image, axis=0), verbose=0)[0]\n",
        "    predicted_label = np.argmax(prediction_raw) # Get the digit with the highest probability\n",
        "\n",
        "    # Plotting\n",
        "    plt.subplot(1, 5, i + 1) # Arrange plots in 1 row, 5 columns\n",
        "    plt.imshow(image.reshape(28, 28), cmap='gray') # Display the image in grayscale\n",
        "    plt.title(f\"True: {true_label}\\nPred: {predicted_label}\") # Show true vs. predicted label\n",
        "    plt.axis('off') # Turn off axis numbers\n",
        "\n",
        "plt.tight_layout() # Adjusts plot parameters for a tight layout.\n",
        "plt.show() # Show the plots!\n",
        "\n",
        "print(\"\\n--- CNN Project Complete! ---\")\n",
        "print(\"You've successfully built, trained, and evaluated a CNN to classify handwritten digits!\")\n",
        "print(\"Look at the plots above to see your model's predictions!\")\n"
      ],
      "metadata": {
        "colab": {
          "base_uri": "https://localhost:8080/",
          "height": 1000
        },
        "id": "lzMp-xsXl4yJ",
        "outputId": "83d31864-f99b-4401-e0cc-276865e5231b"
      },
      "execution_count": null,
      "outputs": [
        {
          "output_type": "stream",
          "name": "stdout",
          "text": [
            "\n",
            "Original training images shape: (60000, 28, 28)\n",
            "Original test images shape: (10000, 28, 28)\n",
            "Reshaped training images shape: (60000, 28, 28, 1)\n",
            "Reshaped test images shape: (10000, 28, 28, 1)\n",
            "\n",
            "Images preprocessed: Reshaped and pixel values normalized (0-255 scaled to 0.0-1.0).\n"
          ]
        },
        {
          "output_type": "stream",
          "name": "stderr",
          "text": [
            "/usr/local/lib/python3.11/dist-packages/keras/src/layers/convolutional/base_conv.py:107: UserWarning: Do not pass an `input_shape`/`input_dim` argument to a layer. When using Sequential models, prefer using an `Input(shape)` object as the first layer in the model instead.\n",
            "  super().__init__(activity_regularizer=activity_regularizer, **kwargs)\n"
          ]
        },
        {
          "output_type": "stream",
          "name": "stdout",
          "text": [
            "\n",
            "CNN Model architecture built and compiled:\n"
          ]
        },
        {
          "output_type": "display_data",
          "data": {
            "text/plain": [
              "\u001b[1mModel: \"sequential\"\u001b[0m\n"
            ],
            "text/html": [
              "<pre style=\"white-space:pre;overflow-x:auto;line-height:normal;font-family:Menlo,'DejaVu Sans Mono',consolas,'Courier New',monospace\"><span style=\"font-weight: bold\">Model: \"sequential\"</span>\n",
              "</pre>\n"
            ]
          },
          "metadata": {}
        },
        {
          "output_type": "display_data",
          "data": {
            "text/plain": [
              "┏━━━━━━━━━━━━━━━━━━━━━━━━━━━━━━━━━┳━━━━━━━━━━━━━━━━━━━━━━━━┳━━━━━━━━━━━━━━━┓\n",
              "┃\u001b[1m \u001b[0m\u001b[1mLayer (type)                   \u001b[0m\u001b[1m \u001b[0m┃\u001b[1m \u001b[0m\u001b[1mOutput Shape          \u001b[0m\u001b[1m \u001b[0m┃\u001b[1m \u001b[0m\u001b[1m      Param #\u001b[0m\u001b[1m \u001b[0m┃\n",
              "┡━━━━━━━━━━━━━━━━━━━━━━━━━━━━━━━━━╇━━━━━━━━━━━━━━━━━━━━━━━━╇━━━━━━━━━━━━━━━┩\n",
              "│ conv2d (\u001b[38;5;33mConv2D\u001b[0m)                 │ (\u001b[38;5;45mNone\u001b[0m, \u001b[38;5;34m26\u001b[0m, \u001b[38;5;34m26\u001b[0m, \u001b[38;5;34m32\u001b[0m)     │           \u001b[38;5;34m320\u001b[0m │\n",
              "├─────────────────────────────────┼────────────────────────┼───────────────┤\n",
              "│ max_pooling2d (\u001b[38;5;33mMaxPooling2D\u001b[0m)    │ (\u001b[38;5;45mNone\u001b[0m, \u001b[38;5;34m13\u001b[0m, \u001b[38;5;34m13\u001b[0m, \u001b[38;5;34m32\u001b[0m)     │             \u001b[38;5;34m0\u001b[0m │\n",
              "├─────────────────────────────────┼────────────────────────┼───────────────┤\n",
              "│ conv2d_1 (\u001b[38;5;33mConv2D\u001b[0m)               │ (\u001b[38;5;45mNone\u001b[0m, \u001b[38;5;34m11\u001b[0m, \u001b[38;5;34m11\u001b[0m, \u001b[38;5;34m64\u001b[0m)     │        \u001b[38;5;34m18,496\u001b[0m │\n",
              "├─────────────────────────────────┼────────────────────────┼───────────────┤\n",
              "│ max_pooling2d_1 (\u001b[38;5;33mMaxPooling2D\u001b[0m)  │ (\u001b[38;5;45mNone\u001b[0m, \u001b[38;5;34m5\u001b[0m, \u001b[38;5;34m5\u001b[0m, \u001b[38;5;34m64\u001b[0m)       │             \u001b[38;5;34m0\u001b[0m │\n",
              "├─────────────────────────────────┼────────────────────────┼───────────────┤\n",
              "│ flatten (\u001b[38;5;33mFlatten\u001b[0m)               │ (\u001b[38;5;45mNone\u001b[0m, \u001b[38;5;34m1600\u001b[0m)           │             \u001b[38;5;34m0\u001b[0m │\n",
              "├─────────────────────────────────┼────────────────────────┼───────────────┤\n",
              "│ dense (\u001b[38;5;33mDense\u001b[0m)                   │ (\u001b[38;5;45mNone\u001b[0m, \u001b[38;5;34m128\u001b[0m)            │       \u001b[38;5;34m204,928\u001b[0m │\n",
              "├─────────────────────────────────┼────────────────────────┼───────────────┤\n",
              "│ dropout (\u001b[38;5;33mDropout\u001b[0m)               │ (\u001b[38;5;45mNone\u001b[0m, \u001b[38;5;34m128\u001b[0m)            │             \u001b[38;5;34m0\u001b[0m │\n",
              "├─────────────────────────────────┼────────────────────────┼───────────────┤\n",
              "│ dense_1 (\u001b[38;5;33mDense\u001b[0m)                 │ (\u001b[38;5;45mNone\u001b[0m, \u001b[38;5;34m10\u001b[0m)             │         \u001b[38;5;34m1,290\u001b[0m │\n",
              "└─────────────────────────────────┴────────────────────────┴───────────────┘\n"
            ],
            "text/html": [
              "<pre style=\"white-space:pre;overflow-x:auto;line-height:normal;font-family:Menlo,'DejaVu Sans Mono',consolas,'Courier New',monospace\">┏━━━━━━━━━━━━━━━━━━━━━━━━━━━━━━━━━┳━━━━━━━━━━━━━━━━━━━━━━━━┳━━━━━━━━━━━━━━━┓\n",
              "┃<span style=\"font-weight: bold\"> Layer (type)                    </span>┃<span style=\"font-weight: bold\"> Output Shape           </span>┃<span style=\"font-weight: bold\">       Param # </span>┃\n",
              "┡━━━━━━━━━━━━━━━━━━━━━━━━━━━━━━━━━╇━━━━━━━━━━━━━━━━━━━━━━━━╇━━━━━━━━━━━━━━━┩\n",
              "│ conv2d (<span style=\"color: #0087ff; text-decoration-color: #0087ff\">Conv2D</span>)                 │ (<span style=\"color: #00d7ff; text-decoration-color: #00d7ff\">None</span>, <span style=\"color: #00af00; text-decoration-color: #00af00\">26</span>, <span style=\"color: #00af00; text-decoration-color: #00af00\">26</span>, <span style=\"color: #00af00; text-decoration-color: #00af00\">32</span>)     │           <span style=\"color: #00af00; text-decoration-color: #00af00\">320</span> │\n",
              "├─────────────────────────────────┼────────────────────────┼───────────────┤\n",
              "│ max_pooling2d (<span style=\"color: #0087ff; text-decoration-color: #0087ff\">MaxPooling2D</span>)    │ (<span style=\"color: #00d7ff; text-decoration-color: #00d7ff\">None</span>, <span style=\"color: #00af00; text-decoration-color: #00af00\">13</span>, <span style=\"color: #00af00; text-decoration-color: #00af00\">13</span>, <span style=\"color: #00af00; text-decoration-color: #00af00\">32</span>)     │             <span style=\"color: #00af00; text-decoration-color: #00af00\">0</span> │\n",
              "├─────────────────────────────────┼────────────────────────┼───────────────┤\n",
              "│ conv2d_1 (<span style=\"color: #0087ff; text-decoration-color: #0087ff\">Conv2D</span>)               │ (<span style=\"color: #00d7ff; text-decoration-color: #00d7ff\">None</span>, <span style=\"color: #00af00; text-decoration-color: #00af00\">11</span>, <span style=\"color: #00af00; text-decoration-color: #00af00\">11</span>, <span style=\"color: #00af00; text-decoration-color: #00af00\">64</span>)     │        <span style=\"color: #00af00; text-decoration-color: #00af00\">18,496</span> │\n",
              "├─────────────────────────────────┼────────────────────────┼───────────────┤\n",
              "│ max_pooling2d_1 (<span style=\"color: #0087ff; text-decoration-color: #0087ff\">MaxPooling2D</span>)  │ (<span style=\"color: #00d7ff; text-decoration-color: #00d7ff\">None</span>, <span style=\"color: #00af00; text-decoration-color: #00af00\">5</span>, <span style=\"color: #00af00; text-decoration-color: #00af00\">5</span>, <span style=\"color: #00af00; text-decoration-color: #00af00\">64</span>)       │             <span style=\"color: #00af00; text-decoration-color: #00af00\">0</span> │\n",
              "├─────────────────────────────────┼────────────────────────┼───────────────┤\n",
              "│ flatten (<span style=\"color: #0087ff; text-decoration-color: #0087ff\">Flatten</span>)               │ (<span style=\"color: #00d7ff; text-decoration-color: #00d7ff\">None</span>, <span style=\"color: #00af00; text-decoration-color: #00af00\">1600</span>)           │             <span style=\"color: #00af00; text-decoration-color: #00af00\">0</span> │\n",
              "├─────────────────────────────────┼────────────────────────┼───────────────┤\n",
              "│ dense (<span style=\"color: #0087ff; text-decoration-color: #0087ff\">Dense</span>)                   │ (<span style=\"color: #00d7ff; text-decoration-color: #00d7ff\">None</span>, <span style=\"color: #00af00; text-decoration-color: #00af00\">128</span>)            │       <span style=\"color: #00af00; text-decoration-color: #00af00\">204,928</span> │\n",
              "├─────────────────────────────────┼────────────────────────┼───────────────┤\n",
              "│ dropout (<span style=\"color: #0087ff; text-decoration-color: #0087ff\">Dropout</span>)               │ (<span style=\"color: #00d7ff; text-decoration-color: #00d7ff\">None</span>, <span style=\"color: #00af00; text-decoration-color: #00af00\">128</span>)            │             <span style=\"color: #00af00; text-decoration-color: #00af00\">0</span> │\n",
              "├─────────────────────────────────┼────────────────────────┼───────────────┤\n",
              "│ dense_1 (<span style=\"color: #0087ff; text-decoration-color: #0087ff\">Dense</span>)                 │ (<span style=\"color: #00d7ff; text-decoration-color: #00d7ff\">None</span>, <span style=\"color: #00af00; text-decoration-color: #00af00\">10</span>)             │         <span style=\"color: #00af00; text-decoration-color: #00af00\">1,290</span> │\n",
              "└─────────────────────────────────┴────────────────────────┴───────────────┘\n",
              "</pre>\n"
            ]
          },
          "metadata": {}
        },
        {
          "output_type": "display_data",
          "data": {
            "text/plain": [
              "\u001b[1m Total params: \u001b[0m\u001b[38;5;34m225,034\u001b[0m (879.04 KB)\n"
            ],
            "text/html": [
              "<pre style=\"white-space:pre;overflow-x:auto;line-height:normal;font-family:Menlo,'DejaVu Sans Mono',consolas,'Courier New',monospace\"><span style=\"font-weight: bold\"> Total params: </span><span style=\"color: #00af00; text-decoration-color: #00af00\">225,034</span> (879.04 KB)\n",
              "</pre>\n"
            ]
          },
          "metadata": {}
        },
        {
          "output_type": "display_data",
          "data": {
            "text/plain": [
              "\u001b[1m Trainable params: \u001b[0m\u001b[38;5;34m225,034\u001b[0m (879.04 KB)\n"
            ],
            "text/html": [
              "<pre style=\"white-space:pre;overflow-x:auto;line-height:normal;font-family:Menlo,'DejaVu Sans Mono',consolas,'Courier New',monospace\"><span style=\"font-weight: bold\"> Trainable params: </span><span style=\"color: #00af00; text-decoration-color: #00af00\">225,034</span> (879.04 KB)\n",
              "</pre>\n"
            ]
          },
          "metadata": {}
        },
        {
          "output_type": "display_data",
          "data": {
            "text/plain": [
              "\u001b[1m Non-trainable params: \u001b[0m\u001b[38;5;34m0\u001b[0m (0.00 B)\n"
            ],
            "text/html": [
              "<pre style=\"white-space:pre;overflow-x:auto;line-height:normal;font-family:Menlo,'DejaVu Sans Mono',consolas,'Courier New',monospace\"><span style=\"font-weight: bold\"> Non-trainable params: </span><span style=\"color: #00af00; text-decoration-color: #00af00\">0</span> (0.00 B)\n",
              "</pre>\n"
            ]
          },
          "metadata": {}
        },
        {
          "output_type": "stream",
          "name": "stdout",
          "text": [
            "\n",
            "Starting model training...\n",
            "Epoch 1/10\n",
            "\u001b[1m1688/1688\u001b[0m \u001b[32m━━━━━━━━━━━━━━━━━━━━\u001b[0m\u001b[37m\u001b[0m \u001b[1m52s\u001b[0m 30ms/step - accuracy: 0.8474 - loss: 0.4815 - val_accuracy: 0.9827 - val_loss: 0.0574\n",
            "Epoch 2/10\n",
            "\u001b[1m1688/1688\u001b[0m \u001b[32m━━━━━━━━━━━━━━━━━━━━\u001b[0m\u001b[37m\u001b[0m \u001b[1m81s\u001b[0m 29ms/step - accuracy: 0.9713 - loss: 0.0984 - val_accuracy: 0.9867 - val_loss: 0.0423\n",
            "Epoch 3/10\n",
            "\u001b[1m1688/1688\u001b[0m \u001b[32m━━━━━━━━━━━━━━━━━━━━\u001b[0m\u001b[37m\u001b[0m \u001b[1m82s\u001b[0m 29ms/step - accuracy: 0.9789 - loss: 0.0689 - val_accuracy: 0.9885 - val_loss: 0.0394\n",
            "Epoch 4/10\n",
            "\u001b[1m1688/1688\u001b[0m \u001b[32m━━━━━━━━━━━━━━━━━━━━\u001b[0m\u001b[37m\u001b[0m \u001b[1m81s\u001b[0m 29ms/step - accuracy: 0.9840 - loss: 0.0550 - val_accuracy: 0.9922 - val_loss: 0.0284\n",
            "Epoch 5/10\n",
            "\u001b[1m1688/1688\u001b[0m \u001b[32m━━━━━━━━━━━━━━━━━━━━\u001b[0m\u001b[37m\u001b[0m \u001b[1m83s\u001b[0m 30ms/step - accuracy: 0.9877 - loss: 0.0426 - val_accuracy: 0.9928 - val_loss: 0.0316\n",
            "Epoch 6/10\n",
            "\u001b[1m1688/1688\u001b[0m \u001b[32m━━━━━━━━━━━━━━━━━━━━\u001b[0m\u001b[37m\u001b[0m \u001b[1m81s\u001b[0m 29ms/step - accuracy: 0.9879 - loss: 0.0371 - val_accuracy: 0.9907 - val_loss: 0.0380\n",
            "Epoch 7/10\n",
            "\u001b[1m1688/1688\u001b[0m \u001b[32m━━━━━━━━━━━━━━━━━━━━\u001b[0m\u001b[37m\u001b[0m \u001b[1m49s\u001b[0m 29ms/step - accuracy: 0.9896 - loss: 0.0328 - val_accuracy: 0.9920 - val_loss: 0.0305\n",
            "Epoch 8/10\n",
            "\u001b[1m1688/1688\u001b[0m \u001b[32m━━━━━━━━━━━━━━━━━━━━\u001b[0m\u001b[37m\u001b[0m \u001b[1m81s\u001b[0m 28ms/step - accuracy: 0.9916 - loss: 0.0263 - val_accuracy: 0.9925 - val_loss: 0.0357\n",
            "Epoch 9/10\n",
            "\u001b[1m1688/1688\u001b[0m \u001b[32m━━━━━━━━━━━━━━━━━━━━\u001b[0m\u001b[37m\u001b[0m \u001b[1m82s\u001b[0m 29ms/step - accuracy: 0.9931 - loss: 0.0236 - val_accuracy: 0.9905 - val_loss: 0.0415\n",
            "Epoch 10/10\n",
            "\u001b[1m1688/1688\u001b[0m \u001b[32m━━━━━━━━━━━━━━━━━━━━\u001b[0m\u001b[37m\u001b[0m \u001b[1m82s\u001b[0m 29ms/step - accuracy: 0.9932 - loss: 0.0209 - val_accuracy: 0.9918 - val_loss: 0.0375\n",
            "Model training complete!\n",
            "\n",
            "Evaluating model performance on test data...\n",
            "Test Loss: 0.0361\n",
            "Test Accuracy: 0.9897\n",
            "\n",
            "SUCCESS! Test accuracy is greater than 95%.\n",
            "\n",
            "Visualizing model predictions on 5 sample images:\n"
          ]
        },
        {
          "output_type": "display_data",
          "data": {
            "text/plain": [
              "<Figure size 1200x600 with 5 Axes>"
            ],
            "image/png": "[encoded data removed]"
          },
          "metadata": {}
        },
        {
          "output_type": "stream",
          "name": "stdout",
          "text": [
            "\n",
            "--- CNN Project Complete! ---\n",
            "You've successfully built, trained, and evaluated a CNN to classify handwritten digits!\n",
            "Look at the plots above to see your model's predictions!\n"
          ]
        }
      ]
    }
  ]
}