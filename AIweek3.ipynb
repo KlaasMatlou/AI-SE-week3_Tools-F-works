{
  "cells": [
    {
      "cell_type": "code",
      "execution_count": null,
      "metadata": {
        "colab": {
          "base_uri": "https://localhost:8080/"
        },
        "id": "QylPpfg3g3bn",
        "outputId": "decf7c8d-6795-45bd-def4-c7b4e7c746c8"
      },
      "outputs": [],
      "source": [
        "import spacy\n",
        "from spacy import displacy\n",
        "\n",
        "# Load the pre-trained English model\n",
        "nlp = spacy.load(\"en_core_web_sm\")\n",
        "\n",
        "# Sample text simulating an Amazon review\n",
        "review_text = \"\"\"\n",
        "I recently bought the new AcmeUltra Laptop by Acme Inc., and its performance is outstanding!\n",
        "The battery life, screen quality, and build are all top-notch. However, the customer support could be better.\n",
        "\"\"\"\n",
        "\n",
        "# Process the text with spaCy\n",
        "doc = nlp(review_text)\n",
        "\n",
        "# Extract and print named entities (e.g., product names, organizations)\n",
        "print(\"Named Entities:\")\n",
        "for ent in doc.ents:\n",
        "    print(f\"{ent.text} - {ent.label_}\")\n",
        "\n",
        "# Rule-based sentiment analysis: a simple approach based on keyword presence\n",
        "positive_keywords = [\"outstanding\", \"top-notch\", \"excellent\", \"good\"]\n",
        "negative_keywords = [\"bad\", \"poor\", \"could be better\", \"disappointing\"]\n",
        "\n",
        "# Lowercase conversion for matching\n",
        "review_lower = review_text.lower()\n",
        "sentiment = \"Positive\" if any(word in review_lower for word in positive_keywords) else \"Negative\"\n",
        "print(f\"\\nSentiment: {sentiment}\")"
      ]
    },
    {
      "cell_type": "markdown",
      "metadata": {
        "id": "XHKWRTqWlKGK"
      },
      "source": [
        "Simple code block with no much details to display. it can be improved to include cleaner and modular logic."
      ]
    },
    {
      "cell_type": "code",
      "execution_count": null,
      "metadata": {
        "colab": {
          "base_uri": "https://localhost:8080/",
          "height": 495
        },
        "id": "rkgho2irfty8",
        "outputId": "f54b0048-9e03-4716-8340-358160e2fa03"
      },
      "outputs": [],
      "source": [
        "import spacy\n",
        "import re\n",
        "from spacy import displacy\n",
        "\n",
        "# Load the pre-trained English model\n",
        "nlp = spacy.load(\"en_core_web_sm\")\n",
        "\n",
        "# Sample text simulating an Amazon review\n",
        "review_text = \"\"\"\n",
        "I recently bought the new AcmeUltra Laptop by Acme Inc., and its performance is outstanding!\n",
        "The battery life, screen quality, and build are all top-notch. However, the customer support could be better.\n",
        "\"\"\"\n",
        "\n",
        "# Optional features\n",
        "enable_visualization = True       # Set to False to disable visualization\n",
        "enable_file_output = True         # Set to False to skip writing to a file\n",
        "\n",
        "# Process the text with spaCy\n",
        "doc = nlp(review_text)\n",
        "\n",
        "# Extract named entities\n",
        "entities = [f\"{ent.text} - {ent.label_}\" for ent in doc.ents]\n",
        "entity_output = \"\\n\".join(entities)\n",
        "print(\"Named Entities:\")\n",
        "print(entity_output)\n",
        "\n",
        "# Rule-based sentiment analysis\n",
        "positive_keywords = [\"outstanding\", \"top-notch\", \"excellent\", \"good\"]\n",
        "negative_keywords = [\"bad\", \"poor\", \"could be better\", \"disappointing\"]\n",
        "\n",
        "# Compile regex patterns\n",
        "positive_pattern = re.compile(r'\\b(?:' + '|'.join(map(re.escape, positive_keywords)) + r')\\b', re.IGNORECASE)\n",
        "negative_pattern = re.compile(r'\\b(?:' + '|'.join(map(re.escape, negative_keywords)) + r')\\b', re.IGNORECASE)\n",
        "\n",
        "# Determine sentiment\n",
        "has_positive = re.search(positive_pattern, review_text)\n",
        "has_negative = re.search(negative_pattern, review_text)\n",
        "\n",
        "if has_positive and not has_negative:\n",
        "    sentiment = \"Positive\"\n",
        "elif has_negative and not has_positive:\n",
        "    sentiment = \"Negative\"\n",
        "elif has_positive and has_negative:\n",
        "    sentiment = \"Mixed\"\n",
        "else:\n",
        "    sentiment = \"Neutral\"\n",
        "\n",
        "print(f\"\\nSentiment: {sentiment}\")\n",
        "\n",
        "# Visualization (if enabled)\n",
        "if enable_visualization:\n",
        "    displacy.serve(doc, style=\"ent\")\n",
        "\n",
        "# Output to file (if enabled)\n",
        "if enable_file_output:\n",
        "    with open(\"review_analysis_output.txt\", \"w\", encoding=\"utf-8\") as f:\n",
        "        f.write(\"Named Entities:\\n\")\n",
        "        f.write(entity_output + \"\\n\\n\")\n",
        "        f.write(f\"Sentiment: {sentiment}\\n\")\n",
        "    print(\"\\nResults written to 'review_analysis_output.txt'\")\n"
      ]
    },
    {
      "cell_type": "markdown",
      "metadata": {
        "id": "C7m8jhDYkndt"
      },
      "source": [
        "Improvements:\n",
        "Visualization in the browser (optional).\n",
        "\n",
        "Option to export results (entities + sentiment) to a .txt file.\n",
        "\n",
        "Cleaner and modular logic."
      ]
    }
  ],
  "metadata": {
    "colab": {
      "provenance": []
    },
    "kernelspec": {
      "display_name": "Python 3",
      "name": "python3"
    },
    "language_info": {
      "name": "python"
    }
  },
  "nbformat": 4,
  "nbformat_minor": 0
}
